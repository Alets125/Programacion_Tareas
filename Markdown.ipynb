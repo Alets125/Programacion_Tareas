{
  "nbformat": 4,
  "nbformat_minor": 0,
  "metadata": {
    "colab": {
      "provenance": [],
      "authorship_tag": "ABX9TyOIYOkV7EdJvQbu0PRXoN43",
      "include_colab_link": true
    },
    "kernelspec": {
      "name": "python3",
      "display_name": "Python 3"
    },
    "language_info": {
      "name": "python"
    }
  },
  "cells": [
    {
      "cell_type": "markdown",
      "metadata": {
        "id": "view-in-github",
        "colab_type": "text"
      },
      "source": [
        "<a href=\"https://colab.research.google.com/github/Alets125/Programacion_Tareas/blob/main/Markdown.ipynb\" target=\"_parent\"><img src=\"https://colab.research.google.com/assets/colab-badge.svg\" alt=\"Open In Colab\"/></a>"
      ]
    },
    {
      "cell_type": "markdown",
      "source": [
        "#Hola soy un Encabezado 1\n",
        "##Soy un Encabezado 2\n",
        "###Soy un Encabezado 3\n",
        "\n",
        "1. Soy una lista numerada\n",
        "2. **Con mi amigo el numero 2 en negritas**\n",
        "3. *Acompañado de 3 hecho en cursivas*\n",
        "4. ***El está en negritas y cursivas***\n",
        "- He aquí la lista sin numeros\n",
        "- Con su otro amigo\n",
        "  - Junto con su hermanito, este es una lista anidada\n",
        "    - Depende cuantas veces quieras anidarlo\n",
        "      - Puedes hacerlo casi todas las veces que quieras\n",
        "        - Solo es cuestion de probarlo cuanto puede llegar\n",
        "\n",
        "\n",
        "Tambien creamos una linea horizontal para separar las cosas\n",
        "***\n",
        "\n",
        "\n",
        "[Vamos a crear un hipervinculo que te lleva a una foto de la nasa.](https://images.nasa.gov/details/PIA21046) Aunque tambien te aparecera abajo.\n",
        "\n",
        "![He aquí la foto](https://images-assets.nasa.gov/image/PIA21046/PIA21046~small.jpg)\n",
        ">Esto es una cita, aunque ya dependes de que tantas cosas quieras realizar, pero es un modo practico de como puedes manejar muy simple el lenguaje\n",
        "***\n"
      ],
      "metadata": {
        "id": "QNyRj6H76nNS"
      }
    }
  ]
}